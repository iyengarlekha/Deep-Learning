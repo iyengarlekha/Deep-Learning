{
 "cells": [
  {
   "cell_type": "code",
   "execution_count": 2,
   "metadata": {
    "colab": {},
    "colab_type": "code",
    "id": "EyJt4yZIQAem"
   },
   "outputs": [],
   "source": [
    "# Import dependencies\n",
    "import torch\n",
    "import torch.nn as nn\n",
    "from plot_lib import set_default, show_scatterplot, plot_bases\n",
    "from matplotlib.pyplot import plot, title, axis"
   ]
  },
  {
   "cell_type": "code",
   "execution_count": 3,
   "metadata": {
    "colab": {},
    "colab_type": "code",
    "id": "VTHDQFHFQAeq"
   },
   "outputs": [],
   "source": [
    "# Set up your device \n",
    "cuda = torch.cuda.is_available()\n",
    "device = torch.device(\"cuda:0\" if cuda else \"cpu\")"
   ]
  },
  {
   "cell_type": "code",
   "execution_count": 4,
   "metadata": {
    "colab": {},
    "colab_type": "code",
    "id": "exqe27QXQAet"
   },
   "outputs": [],
   "source": [
    "# Set up random seed to 1008. Do not change the random seed.\n",
    "seed = 1008\n",
    "torch.manual_seed(seed)\n",
    "if cuda:\n",
    "    torch.cuda.manual_seed_all(seed)"
   ]
  },
  {
   "cell_type": "markdown",
   "metadata": {
    "colab_type": "text",
    "id": "7krs-4XOQAev"
   },
   "source": [
    "# 1. Full, slice, fill\n",
    "Write a function `warm_up` that returns the 2D tensor with integers below. **Do not use any loops**.\n",
    "\n",
    "```\n",
    "1 2 1 1 1 1 2 1 1 1 1 2 1\n",
    "2 2 2 2 2 2 2 2 2 2 2 2 2\n",
    "1 2 1 1 1 1 2 1 1 1 1 2 1\n",
    "1 2 1 3 3 1 2 1 3 3 1 2 1\n",
    "1 2 1 3 3 1 2 1 3 3 1 2 1\n",
    "1 2 1 1 1 1 2 1 1 1 1 2 1\n",
    "2 2 2 2 2 2 2 2 2 2 2 2 2\n",
    "1 2 1 1 1 1 2 1 1 1 1 2 1\n",
    "1 2 1 3 3 1 2 1 3 3 1 2 1\n",
    "1 2 1 3 3 1 2 1 3 3 1 2 1\n",
    "1 2 1 1 1 1 2 1 1 1 1 2 1\n",
    "2 2 2 2 2 2 2 2 2 2 2 2 2\n",
    "1 2 1 1 1 1 2 1 1 1 1 2 1\n",
    "```\n",
    "\n",
    "\n",
    "Hint: Use `torch.full`, `torch.fill_`, and the slicing operator."
   ]
  },
  {
   "cell_type": "code",
   "execution_count": 5,
   "metadata": {
    "colab": {},
    "colab_type": "code",
    "id": "JsFk9OUoQAew"
   },
   "outputs": [
    {
     "name": "stdout",
     "output_type": "stream",
     "text": [
      "tensor([[ 1.,  2.,  1.,  1.,  1.,  1.,  2.,  1.,  1.,  1.,  1.,  2.,\n",
      "          1.],\n",
      "        [ 2.,  2.,  2.,  2.,  2.,  2.,  2.,  2.,  2.,  2.,  2.,  2.,\n",
      "          2.],\n",
      "        [ 1.,  2.,  1.,  1.,  1.,  1.,  2.,  1.,  1.,  1.,  1.,  2.,\n",
      "          1.],\n",
      "        [ 1.,  2.,  1.,  3.,  3.,  1.,  2.,  1.,  3.,  3.,  1.,  2.,\n",
      "          1.],\n",
      "        [ 1.,  2.,  1.,  3.,  3.,  1.,  2.,  1.,  3.,  3.,  1.,  2.,\n",
      "          1.],\n",
      "        [ 1.,  2.,  1.,  1.,  1.,  1.,  2.,  1.,  1.,  1.,  1.,  2.,\n",
      "          1.],\n",
      "        [ 2.,  2.,  2.,  2.,  2.,  2.,  2.,  2.,  2.,  2.,  2.,  2.,\n",
      "          2.],\n",
      "        [ 1.,  2.,  1.,  1.,  1.,  1.,  2.,  1.,  1.,  1.,  1.,  2.,\n",
      "          1.],\n",
      "        [ 1.,  2.,  1.,  3.,  3.,  1.,  2.,  1.,  3.,  3.,  1.,  2.,\n",
      "          1.],\n",
      "        [ 1.,  2.,  1.,  3.,  3.,  1.,  2.,  1.,  3.,  3.,  1.,  2.,\n",
      "          1.],\n",
      "        [ 1.,  2.,  1.,  1.,  1.,  1.,  2.,  1.,  1.,  1.,  1.,  2.,\n",
      "          1.],\n",
      "        [ 2.,  2.,  2.,  2.,  2.,  2.,  2.,  2.,  2.,  2.,  2.,  2.,\n",
      "          2.],\n",
      "        [ 1.,  2.,  1.,  1.,  1.,  1.,  2.,  1.,  1.,  1.,  1.,  2.,\n",
      "          1.]])\n"
     ]
    }
   ],
   "source": [
    "def warm_up():\n",
    "#     raise NotImplementedError()\n",
    "    warm_up_tensor= torch.full((13,13), 1)\n",
    "    warm_up_tensor[1].fill_(2)\n",
    "    warm_up_tensor[:,1].fill_(2)\n",
    "    warm_up_tensor[6].fill_(2)\n",
    "    warm_up_tensor[:,6].fill_(2)\n",
    "    warm_up_tensor[11].fill_(2)\n",
    "    warm_up_tensor[:,11].fill_(2)\n",
    "    warm_up_tensor[3:5,3:5].fill_(3)\n",
    "    warm_up_tensor[3:5,8:10].fill_(3)\n",
    "    warm_up_tensor[8:10,3:5].fill_(3)\n",
    "    warm_up_tensor[8:10,8:10].fill_(3)\n",
    "    return warm_up_tensor\n",
    "\n",
    "# Uncomment line below once you implement this function. \n",
    "print(warm_up())"
   ]
  },
  {
   "cell_type": "markdown",
   "metadata": {
    "colab_type": "text",
    "id": "E8ivZVl5QAez"
   },
   "source": [
    "# 2. To Loop or not to loop"
   ]
  },
  {
   "cell_type": "markdown",
   "metadata": {
    "colab_type": "text",
    "id": "mxGRJK4-QAe0"
   },
   "source": [
    "## 2.1. `mul_row_loop`\n",
    "Write a function `mul_row_loop`, using python loops (and not even slicing operators), that gets a 2D tensor\n",
    "as input, and returns a tensor of same size, equal to the one given as argument, with the first row\n",
    "kept unchanged, the second multiplied by two, the third by three, etc.\n",
    "For instance:\n",
    "```\n",
    ">>> t = torch.full((4, 8), 2.0)\n",
    ">>> t\n",
    "tensor([[2., 2., 2., 2., 2., 2., 2., 2.],\n",
    "[2., 2., 2., 2., 2., 2., 2., 2.],\n",
    "[2., 2., 2., 2., 2., 2., 2., 2.],\n",
    "[2., 2., 2., 2., 2., 2., 2., 2.]])\n",
    ">>> mul_row(t)\n",
    "tensor([[2., 2., 2., 2., 2., 2., 2., 2.],\n",
    "[4., 4., 4., 4., 4., 4., 4., 4.],\n",
    "[6., 6., 6., 6., 6., 6., 6., 6.],\n",
    "[8., 8., 8., 8., 8., 8., 8., 8.]])\n",
    "```"
   ]
  },
  {
   "cell_type": "code",
   "execution_count": 17,
   "metadata": {
    "colab": {},
    "colab_type": "code",
    "id": "5YIAg1mlQAe0"
   },
   "outputs": [],
   "source": [
    "def mul_row_loop(input_tensor):\n",
    "    row,col = input_tensor.size()\n",
    "    for i in range(0,row):\n",
    "        for j in range(0,col):\n",
    "            input_tensor[i,j] *= i+1\n",
    "#         input_tensor[i] *= i+1\n",
    "    return input_tensor\n",
    "#     raise NotImplementedError()\n",
    "t = torch.full((4, 8), 2.0)\n",
    "# print(mul_row_loop(t))sw"
   ]
  },
  {
   "cell_type": "markdown",
   "metadata": {
    "colab_type": "text",
    "id": "ycMZbO2HQAe3"
   },
   "source": [
    "# 2.2. `mul_row_fast`\n",
    "Write a second version of the same function named `mul_row_fast` which uses tensor operations and no looping.\n",
    "\n",
    "**Hint**: Use broadcasting and `torch.arange`, `torch.view`, and `torch.mul`."
   ]
  },
  {
   "cell_type": "code",
   "execution_count": 22,
   "metadata": {
    "colab": {},
    "colab_type": "code",
    "id": "5V3Q-GX8QAe3"
   },
   "outputs": [
    {
     "name": "stdout",
     "output_type": "stream",
     "text": [
      "tensor([[ 2.,  2.,  2.,  2.,  2.,  2.,  2.,  2.],\n",
      "        [ 4.,  4.,  4.,  4.,  4.,  4.,  4.,  4.],\n",
      "        [ 6.,  6.,  6.,  6.,  6.,  6.,  6.,  6.],\n",
      "        [ 8.,  8.,  8.,  8.,  8.,  8.,  8.,  8.]])\n"
     ]
    }
   ],
   "source": [
    "def mul_row_fast(input_tensor):\n",
    "    row,col = input_tensor.size()\n",
    "#     print(input_tensor)\n",
    "#     print(torch.arange(1,row+1,1).view(row,1))\n",
    "    return torch.mul(input_tensor,torch.arange(1,row+1,1).view(row,1))\n",
    "\n",
    "t = torch.full((4, 8), 2.0)\n",
    "p = torch.arange(1,33,1).view(4,8)\n",
    "# print(mul_row_fast(p))\n",
    "print(mul_row_fast(t))\n",
    "#     raise NotImplementedError()"
   ]
  },
  {
   "cell_type": "markdown",
   "metadata": {
    "colab_type": "text",
    "id": "6MWuVzVQQAe7"
   },
   "source": [
    "# 2.3. `times`\n",
    "Write a function `times` which takes a 2D tensor as input and returns the run times of `mul_row_loop` and `mul_row_fast` on this tensor, respectively. Use `time.perf_counter`.\n",
    "\n",
    "Use `torch.ones` to create a 2D tensor of size (1000, 400) full of ones and run `times` on it (there should be more than two orders of magnitude difference)."
   ]
  },
  {
   "cell_type": "code",
   "execution_count": 20,
   "metadata": {
    "colab": {},
    "colab_type": "code",
    "id": "vlOKGDMJQAe8"
   },
   "outputs": [
    {
     "name": "stdout",
     "output_type": "stream",
     "text": [
      "4.448902083997382, 0.000852269004099071\n"
     ]
    }
   ],
   "source": [
    "import time\n",
    "from time import perf_counter\n",
    "def times(input_tensor):\n",
    "    start = time.perf_counter()\n",
    "    mul_row_loop(input_tensor)\n",
    "    end = time.perf_counter()\n",
    "    loop_run_time = end - start\n",
    "    start = time.perf_counter()\n",
    "    mul_row_fast(input_tensor)\n",
    "    end = time.perf_counter()\n",
    "    fast_run_time = end - start\n",
    "    return loop_run_time ,fast_run_time \n",
    "#     raise NotImplementedError()\n",
    "\n",
    "# Uncomment lines below once you implement this function. \n",
    "input_tensor = torch.ones(1000,400)#TODO\n",
    "# time_1, time_2 = times(random_tensor)\n",
    "time_1, time_2 = times(input_tensor)\n",
    "print('{}, {}'.format(time_1, time_2))"
   ]
  },
  {
   "cell_type": "markdown",
   "metadata": {
    "colab_type": "text",
    "id": "yn_FXad8QAe_"
   },
   "source": [
    "# 3. Non-linearities"
   ]
  },
  {
   "cell_type": "markdown",
   "metadata": {
    "colab_type": "text",
    "id": "19a6rMNeQAe_"
   },
   "source": [
    "## 3.1. ReLU\n",
    "ReLU (Rectified Linear Unit) is a non-linear activation fuction defined as:\n",
    "\n",
    "$$y = \\mathrm{max}(0,x)$$\n",
    "\n",
    "Define a fully connected neural network `linear_fc_relu` which:\n",
    "- takes 2 dimensional data as input and passes it through linear modules (`torch.nn.Linear`)\n",
    "- has one hidden layer of dimension 5 \n",
    "- has output dimension of 2\n",
    "- has ReLu as an activation function\n",
    "\n",
    "Create a tensor with input data $X$ of size (100, 2) using `torch.randn`. \n",
    "\n",
    "Following the example in https://github.com/Atcold/pytorch-Deep-Learning-Minicourse/blob/master/02-space_stretching.ipynb, visualize the output of passing `X` through the neural network `linear_fc_relu`."
   ]
  },
  {
   "cell_type": "code",
   "execution_count": 9,
   "metadata": {
    "colab": {},
    "colab_type": "code",
    "id": "XX0oEX98QAfA"
   },
   "outputs": [],
   "source": [
    "# Input data\n",
    "X = torch.randn(100,2)#TODO"
   ]
  },
  {
   "cell_type": "code",
   "execution_count": 24,
   "metadata": {
    "colab": {},
    "colab_type": "code",
    "id": "zf-DCcGEQAfI"
   },
   "outputs": [
    {
     "data": {
      "image/png": "[encoded data removed]",
      "text/plain": [
       "<Figure size 432x288 with 1 Axes>"
      ]
     },
     "metadata": {
      "needs_background": "light"
     },
     "output_type": "display_data"
    }
   ],
   "source": [
    "# create 1-layer neural networks with ReLU activation\n",
    "import matplotlib.cm as cm\n",
    "import numpy as np\n",
    "\n",
    "device = torch.device(\"cuda:0\" if torch.cuda.is_available() else \"cpu\")\n",
    "n_hidden = 5\n",
    "linear_fc_relu = nn.Sequential(\n",
    "            nn.Linear(2, n_hidden), \n",
    "            nn.ReLU(), \n",
    "            nn.Linear(n_hidden, 2))\n",
    "\n",
    "# Visualize: TODO\n",
    "# print(np.linspace(0, 1, 2))\n",
    "# colors = cm.rainbow(np.linspace(0, 1, 3))\n",
    "colors = X[:, 0]\n",
    "\n",
    "with torch.no_grad():\n",
    "    Y = linear_fc_relu(X)\n",
    "show_scatterplot(Y, colors, title='f(x)')"
   ]
  },
  {
   "cell_type": "markdown",
   "metadata": {
    "colab_type": "text",
    "id": "RSznMa6rQAfL"
   },
   "source": [
    "## 3.2. Sigmoid\n",
    "The sigmoid function is another popular choice for a non-linear activation function which maps its input to values in the interval $(0,1)$. It is formally defined as:\n",
    "\n",
    "$$\\sigma(x) = \\frac{1}{1+ e^{-x}}$$\n",
    "\n",
    "Define a new neural network `linear_fc_sigmoid` which is the same architecture as in part `3.1.` but with a sigmoid unit instead of ReLU. \n",
    "\n",
    "Using the same $X$ as in part `3.1`, visualize the output of passing `X` through the neural network `linear_fc_sigmoid`."
   ]
  },
  {
   "cell_type": "code",
   "execution_count": 23,
   "metadata": {
    "colab": {},
    "colab_type": "code",
    "id": "5xg3uBHNQAfM"
   },
   "outputs": [
    {
     "data": {
      "image/png": "[encoded data removed]",
      "text/plain": [
       "<Figure size 432x288 with 1 Axes>"
      ]
     },
     "metadata": {
      "needs_background": "light"
     },
     "output_type": "display_data"
    }
   ],
   "source": [
    "# create 1-layer neural networks with Sigmoid activation\n",
    "# linear_fc_sigmoid = device = torch.device(\"cuda:0\" if torch.cuda.is_available() else \"cpu\")\n",
    "linear_fc_sigmoid = nn.Sequential(\n",
    "            nn.Linear(2, n_hidden), \n",
    "            nn.Sigmoid(), \n",
    "            nn.Linear(n_hidden, 2))\n",
    "# Visualize: TODO\n",
    "# print(np.linspace(0, 1, 2))\n",
    "# colors = cm.rainbow(np.linspace(0, 1, 3))\n",
    "colors = X[:, 0]\n",
    "\n",
    "with torch.no_grad():\n",
    "    Y = linear_fc_sigmoid(X)\n",
    "show_scatterplot(Y, colors, title='f(x)')"
   ]
  },
  {
   "cell_type": "code",
   "execution_count": null,
   "metadata": {},
   "outputs": [],
   "source": []
  }
 ],
 "metadata": {
  "colab": {
   "name": "DS-GA-1008-HW_assignment_1.ipynb",
   "provenance": [],
   "version": "0.3.2"
  },
  "kernelspec": {
   "display_name": "Python 3",
   "language": "python",
   "name": "python3"
  },
  "language_info": {
   "codemirror_mode": {
    "name": "ipython",
    "version": 3
   },
   "file_extension": ".py",
   "mimetype": "text/x-python",
   "name": "python",
   "nbconvert_exporter": "python",
   "pygments_lexer": "ipython3",
   "version": "3.6.5"
  }
 },
 "nbformat": 4,
 "nbformat_minor": 1
}
