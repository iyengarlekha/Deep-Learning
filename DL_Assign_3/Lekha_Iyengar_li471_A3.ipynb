{
 "cells": [
  {
   "cell_type": "markdown",
   "metadata": {},
   "source": [
    "## 0. Setup"
   ]
  },
  {
   "cell_type": "code",
   "execution_count": 1,
   "metadata": {},
   "outputs": [],
   "source": [
    "# Import dependencies\n",
    "import torch\n",
    "import torch.nn as nn\n",
    "import torch.nn.functional as F\n",
    "import torch.optim as optim\n",
    "from torch.utils.data import DataLoader\n",
    "from torchvision import datasets, transforms"
   ]
  },
  {
   "cell_type": "code",
   "execution_count": 2,
   "metadata": {},
   "outputs": [],
   "source": [
    "# Set up your device \n",
    "cuda = torch.cuda.is_available()\n",
    "device = torch.device(\"cuda:0\" if cuda else \"cpu\")"
   ]
  },
  {
   "cell_type": "code",
   "execution_count": 3,
   "metadata": {},
   "outputs": [],
   "source": [
    "# Set up random seed to 1008. Do not change the random seed.\n",
    "seed = 1008\n",
    "torch.manual_seed(seed)\n",
    "if cuda:\n",
    "    torch.cuda.manual_seed_all(seed)"
   ]
  },
  {
   "cell_type": "markdown",
   "metadata": {},
   "source": [
    "## 1. Data: MNIST\n",
    "#### Load the MNIST training and test dataset using $\\texttt{torch.utils.data.DataLoader}$ and $\\texttt{torchvision.datasets}$. \n",
    "\n",
    "Hint: You might find Alf's notebook useful: https://github.com/Atcold/pytorch-Deep-Learning-Minicourse/blob/master/06-convnet.ipynb"
   ]
  },
  {
   "cell_type": "markdown",
   "metadata": {},
   "source": [
    "### 1.1. Load Training Set [4 pts]"
   ]
  },
  {
   "cell_type": "code",
   "execution_count": 5,
   "metadata": {},
   "outputs": [],
   "source": [
    "# Load the MNIST training set with batch size 128, apply data shuffling and normalization\n",
    "train_loader = torch.utils.data.DataLoader(\n",
    "    datasets.MNIST('../data', train=True, download=True,\n",
    "                   transform=transforms.Compose([\n",
    "                       transforms.ToTensor(),\n",
    "                       transforms.Normalize((0.1307,), (0.3081,))\n",
    "                   ])), batch_size=128, shuffle=True)"
   ]
  },
  {
   "cell_type": "markdown",
   "metadata": {},
   "source": [
    "### 1.1. Load Test Set [4 pts]"
   ]
  },
  {
   "cell_type": "code",
   "execution_count": 6,
   "metadata": {},
   "outputs": [],
   "source": [
    "# Load the MNIST test set with batch size 128, apply data shuffling and normalization\n",
    "test_loader = torch.utils.data.DataLoader(\n",
    "    datasets.MNIST('../data', train=False, transform=transforms.Compose([\n",
    "                       transforms.ToTensor(),\n",
    "                       transforms.Normalize((0.1307,), (0.3081,))\n",
    "                   ])),\n",
    "    batch_size=128, shuffle=True)"
   ]
  },
  {
   "cell_type": "markdown",
   "metadata": {},
   "source": [
    "## 2. Models\n",
    "#### You are going to define two convolutional neural networks which are trained to classify MNIST digits"
   ]
  },
  {
   "cell_type": "markdown",
   "metadata": {},
   "source": [
    "### 2.1. CNN without Batch Norm [15 pts]"
   ]
  },
  {
   "cell_type": "code",
   "execution_count": 7,
   "metadata": {},
   "outputs": [],
   "source": [
    "# Fill in the values below that make this network valid for MNIST data\n",
    "\n",
    "conv1_in_ch = 1\n",
    "conv2_in_ch =20 #number of features\n",
    "fc1_in_features = 4*4*50\n",
    "fc2_in_features = 500 #out_features of fc1\n",
    "n_classes = 10"
   ]
  },
  {
   "cell_type": "code",
   "execution_count": 8,
   "metadata": {},
   "outputs": [],
   "source": [
    "class NetWithoutBatchNorm(nn.Module):\n",
    "    def __init__(self):\n",
    "        super(NetWithoutBatchNorm, self).__init__()\n",
    "        self.conv1 = nn.Conv2d(in_channels=conv1_in_ch, out_channels=20, kernel_size=5, stride=1)\n",
    "        self.conv2 = nn.Conv2d(in_channels=20, out_channels=50, kernel_size=5, stride=1)\n",
    "        self.fc1 = nn.Linear(in_features=fc1_in_features, out_features=500)\n",
    "        self.fc2 = nn.Linear(in_features=fc2_in_features, out_features=n_classes)\n",
    "\n",
    "    def forward(self, x):\n",
    "        x = F.relu(self.conv1(x))\n",
    "        x = F.max_pool2d(x, kernel_size=2, stride=2)\n",
    "        x = F.relu(self.conv2(x))\n",
    "        x = F.max_pool2d(x, kernel_size=2, stride=2)\n",
    "        x = x.view(-1, fc1_in_features) # reshaping\n",
    "        x = F.relu(self.fc1(x))\n",
    "        x = self.fc2(x)\n",
    "        x = F.log_softmax(x, dim=1)\n",
    "        # Return the log_softmax of x.\n",
    "        return x"
   ]
  },
  {
   "cell_type": "markdown",
   "metadata": {},
   "source": [
    "### 2.2. CNN with Batch Norm [15 pts]"
   ]
  },
  {
   "cell_type": "code",
   "execution_count": 9,
   "metadata": {},
   "outputs": [],
   "source": [
    "# Fill in the values below that make this network valid for MNIST data\n",
    "\n",
    "conv1_bn_size = 20\n",
    "conv2_bn_size = 50\n",
    "fc1_bn_size = 500"
   ]
  },
  {
   "cell_type": "code",
   "execution_count": 11,
   "metadata": {},
   "outputs": [],
   "source": [
    "# Define the CNN with architecture explained in Part 2.2\n",
    "class NetWithBatchNorm(nn.Module):\n",
    "    def __init__(self):\n",
    "        super(NetWithBatchNorm, self).__init__()\n",
    "        self.conv1 = nn.Conv2d(in_channels=conv1_in_ch, out_channels=20, kernel_size=5, stride=1)\n",
    "        self.conv1_bn = nn.BatchNorm2d(conv1_bn_size)\n",
    "        self.conv2 = nn.Conv2d(in_channels=20, out_channels=50, kernel_size=5, stride=1)\n",
    "        self.conv2_bn = nn.BatchNorm2d(conv2_bn_size)\n",
    "        self.fc1 = nn.Linear(in_features=fc1_in_features, out_features=500)\n",
    "        self.fc1_bn = nn.BatchNorm1d(fc1_bn_size)\n",
    "        self.fc2 = nn.Linear(in_features=fc2_in_features, out_features=n_classes)\n",
    "\n",
    "    def forward(self, x):\n",
    "        x = F.relu(self.conv1_bn(self.conv1(x)))\n",
    "        x = F.max_pool2d(x, kernel_size=2, stride=2)\n",
    "        x = F.relu(self.conv2_bn(self.conv2(x)))\n",
    "        x = F.max_pool2d(x, kernel_size=2, stride=2)\n",
    "        x = x.view(-1, fc1_in_features)\n",
    "        x = F.relu(self.fc1_bn(self.fc1(x)))\n",
    "        x = self.fc2(x)\n",
    "        # Return the log_softmax of x.\n",
    "        x = F.log_softmax(x, dim=1)\n",
    "        return x"
   ]
  },
  {
   "cell_type": "markdown",
   "metadata": {},
   "source": [
    "## 3. Training & Evaluation"
   ]
  },
  {
   "cell_type": "markdown",
   "metadata": {},
   "source": [
    "### 3.1. Define training method [15 pts]"
   ]
  },
  {
   "cell_type": "code",
   "execution_count": 12,
   "metadata": {},
   "outputs": [],
   "source": [
    "def train(model, device, train_loader, optimizer, epoch, log_interval = 100):\n",
    "    # Set model to training mode\n",
    "    model.train()\n",
    "    # Loop through data points\n",
    "    for batch_idx, (data, target) in enumerate(train_loader):\n",
    "    \n",
    "        # Send data and target to device\n",
    "        data, target = data.to(device), target.to(device)\n",
    "        \n",
    "        # Zero out the ortimizer\n",
    "        optimizer.zero_grad()\n",
    "        \n",
    "        # Pass data through model\n",
    "        output = model(data)\n",
    "        \n",
    "        # Compute the negative log likelihood loss\n",
    "        loss = F.nll_loss(output, target)\n",
    "        \n",
    "        # Backpropagate loss\n",
    "        loss.backward()\n",
    "        \n",
    "        # Make a step with the optimizer\n",
    "        optimizer.step()\n",
    "        \n",
    "        # Print loss (uncomment lines below once implemented)\n",
    "        if batch_idx % log_interval == 0:\n",
    "            print('Train Epoch: {} [{}/{} ({:.0f}%)]\\tLoss: {:.6f}'.format(\n",
    "                epoch, batch_idx * len(data), len(train_loader.dataset),\n",
    "                100. * batch_idx / len(train_loader), loss.item()))"
   ]
  },
  {
   "cell_type": "markdown",
   "metadata": {},
   "source": [
    "### 3.2. Define test method [15 pts]"
   ]
  },
  {
   "cell_type": "code",
   "execution_count": 16,
   "metadata": {},
   "outputs": [],
   "source": [
    "# Define test method\n",
    "def test(model, device, test_loader):\n",
    "    # Set model to evaluation mode\n",
    "    model.eval()\n",
    "    # Variable for the total loss \n",
    "    test_loss = 0\n",
    "    # Counter for the correct predictions\n",
    "    num_correct = 0\n",
    "    \n",
    "    with torch.no_grad():\n",
    "        # Loop through data points\n",
    "        for data, target in test_loader:\n",
    "        \n",
    "            # Send data to device\n",
    "            data, target = data.to(device), target.to(device)\n",
    "            \n",
    "            # Pass data through model\n",
    "            output = model(data)\n",
    "            \n",
    "            # Compute the negative log likelihood loss with reduction='sum' and add to total test_loss\n",
    "            test_loss += F.nll_loss(output, target, reduction='sum').item()\n",
    "            \n",
    "            # Get predictions from the model for each data point\n",
    "            pred = output.data.max(1, keepdim=True)[1]\n",
    "            \n",
    "            # Add number of correct predictions to total num_correct \n",
    "            num_correct += pred.eq(target.data.view_as(pred)).cpu().sum().item()\n",
    "    \n",
    "    # Compute the average test_loss\n",
    "    avg_test_loss = test_loss / len(test_loader.dataset)\n",
    "    \n",
    "    # Print loss (uncomment lines below once implemented)\n",
    "    print('\\nTest set: Average loss: {:.4f}, Accuracy: {}/{} ({:.0f}%)\\n'.format(\n",
    "        avg_test_loss, num_correct, len(test_loader.dataset),\n",
    "        100. * num_correct / len(test_loader.dataset)))"
   ]
  },
  {
   "cell_type": "markdown",
   "metadata": {},
   "source": [
    "### 3.3 Train NetWithoutBatchNorm() [5 pts]"
   ]
  },
  {
   "cell_type": "code",
   "execution_count": 17,
   "metadata": {},
   "outputs": [
    {
     "name": "stdout",
     "output_type": "stream",
     "text": [
      "Train Epoch: 1 [0/60000 (0%)]\tLoss: 2.291516\n",
      "Train Epoch: 1 [12800/60000 (21%)]\tLoss: 0.370411\n",
      "Train Epoch: 1 [25600/60000 (43%)]\tLoss: 0.229022\n",
      "Train Epoch: 1 [38400/60000 (64%)]\tLoss: 0.210695\n",
      "Train Epoch: 1 [51200/60000 (85%)]\tLoss: 0.132471\n",
      "\n",
      "Test set: Average loss: 0.1529, Accuracy: 9536/10000 (95%)\n",
      "\n",
      "Train Epoch: 2 [0/60000 (0%)]\tLoss: 0.186376\n",
      "Train Epoch: 2 [12800/60000 (21%)]\tLoss: 0.227518\n",
      "Train Epoch: 2 [25600/60000 (43%)]\tLoss: 0.196605\n",
      "Train Epoch: 2 [38400/60000 (64%)]\tLoss: 0.065756\n",
      "Train Epoch: 2 [51200/60000 (85%)]\tLoss: 0.136527\n",
      "\n",
      "Test set: Average loss: 0.0948, Accuracy: 9693/10000 (97%)\n",
      "\n",
      "Train Epoch: 3 [0/60000 (0%)]\tLoss: 0.131472\n",
      "Train Epoch: 3 [12800/60000 (21%)]\tLoss: 0.093601\n",
      "Train Epoch: 3 [25600/60000 (43%)]\tLoss: 0.035016\n",
      "Train Epoch: 3 [38400/60000 (64%)]\tLoss: 0.051794\n",
      "Train Epoch: 3 [51200/60000 (85%)]\tLoss: 0.037669\n",
      "\n",
      "Test set: Average loss: 0.0812, Accuracy: 9745/10000 (97%)\n",
      "\n",
      "Train Epoch: 4 [0/60000 (0%)]\tLoss: 0.054686\n",
      "Train Epoch: 4 [12800/60000 (21%)]\tLoss: 0.072845\n",
      "Train Epoch: 4 [25600/60000 (43%)]\tLoss: 0.050195\n",
      "Train Epoch: 4 [38400/60000 (64%)]\tLoss: 0.077114\n",
      "Train Epoch: 4 [51200/60000 (85%)]\tLoss: 0.030874\n",
      "\n",
      "Test set: Average loss: 0.0574, Accuracy: 9817/10000 (98%)\n",
      "\n",
      "Train Epoch: 5 [0/60000 (0%)]\tLoss: 0.038369\n",
      "Train Epoch: 5 [12800/60000 (21%)]\tLoss: 0.063213\n",
      "Train Epoch: 5 [25600/60000 (43%)]\tLoss: 0.062660\n",
      "Train Epoch: 5 [38400/60000 (64%)]\tLoss: 0.040153\n",
      "Train Epoch: 5 [51200/60000 (85%)]\tLoss: 0.027347\n",
      "\n",
      "Test set: Average loss: 0.0525, Accuracy: 9827/10000 (98%)\n",
      "\n",
      "Train Epoch: 6 [0/60000 (0%)]\tLoss: 0.049113\n",
      "Train Epoch: 6 [12800/60000 (21%)]\tLoss: 0.052316\n",
      "Train Epoch: 6 [25600/60000 (43%)]\tLoss: 0.038503\n",
      "Train Epoch: 6 [38400/60000 (64%)]\tLoss: 0.024379\n",
      "Train Epoch: 6 [51200/60000 (85%)]\tLoss: 0.018190\n",
      "\n",
      "Test set: Average loss: 0.0461, Accuracy: 9849/10000 (98%)\n",
      "\n",
      "Train Epoch: 7 [0/60000 (0%)]\tLoss: 0.020643\n",
      "Train Epoch: 7 [12800/60000 (21%)]\tLoss: 0.054666\n",
      "Train Epoch: 7 [25600/60000 (43%)]\tLoss: 0.110802\n",
      "Train Epoch: 7 [38400/60000 (64%)]\tLoss: 0.070579\n",
      "Train Epoch: 7 [51200/60000 (85%)]\tLoss: 0.030091\n",
      "\n",
      "Test set: Average loss: 0.0433, Accuracy: 9855/10000 (99%)\n",
      "\n",
      "Train Epoch: 8 [0/60000 (0%)]\tLoss: 0.039429\n",
      "Train Epoch: 8 [12800/60000 (21%)]\tLoss: 0.049941\n",
      "Train Epoch: 8 [25600/60000 (43%)]\tLoss: 0.015765\n",
      "Train Epoch: 8 [38400/60000 (64%)]\tLoss: 0.031721\n",
      "Train Epoch: 8 [51200/60000 (85%)]\tLoss: 0.051005\n",
      "\n",
      "Test set: Average loss: 0.0375, Accuracy: 9884/10000 (99%)\n",
      "\n",
      "Train Epoch: 9 [0/60000 (0%)]\tLoss: 0.152776\n",
      "Train Epoch: 9 [12800/60000 (21%)]\tLoss: 0.041439\n",
      "Train Epoch: 9 [25600/60000 (43%)]\tLoss: 0.024254\n",
      "Train Epoch: 9 [38400/60000 (64%)]\tLoss: 0.020389\n",
      "Train Epoch: 9 [51200/60000 (85%)]\tLoss: 0.091977\n",
      "\n",
      "Test set: Average loss: 0.0392, Accuracy: 9866/10000 (99%)\n",
      "\n",
      "Train Epoch: 10 [0/60000 (0%)]\tLoss: 0.027488\n",
      "Train Epoch: 10 [12800/60000 (21%)]\tLoss: 0.011517\n",
      "Train Epoch: 10 [25600/60000 (43%)]\tLoss: 0.018917\n",
      "Train Epoch: 10 [38400/60000 (64%)]\tLoss: 0.074223\n",
      "Train Epoch: 10 [51200/60000 (85%)]\tLoss: 0.056410\n",
      "\n",
      "Test set: Average loss: 0.0379, Accuracy: 9874/10000 (99%)\n",
      "\n"
     ]
    }
   ],
   "source": [
    "# Deifne model and sent to device\n",
    "model = NetWithoutBatchNorm()\n",
    "model.to(device)\n",
    "\n",
    "# Optimizer: SGD with learning rate of 1e-2 and momentum of 0.5\n",
    "optimizer = optim.SGD(model.parameters(), lr=0.01, momentum=0.5)\n",
    "\n",
    "# Training loop with 10 epochs\n",
    "for epoch in range(1, 10 + 1):\n",
    "    pass # remove once implemented\n",
    "\n",
    "    # Train model\n",
    "    train(model, device, train_loader, optimizer, epoch)\n",
    "    \n",
    "    # Test model\n",
    "    test(model, device, test_loader)"
   ]
  },
  {
   "cell_type": "markdown",
   "metadata": {},
   "source": [
    "### 3.4 Train NetWithBatchNorm() [5 pts]"
   ]
  },
  {
   "cell_type": "code",
   "execution_count": 18,
   "metadata": {},
   "outputs": [
    {
     "name": "stdout",
     "output_type": "stream",
     "text": [
      "Train Epoch: 1 [0/60000 (0%)]\tLoss: 2.343491\n",
      "Train Epoch: 1 [12800/60000 (21%)]\tLoss: 0.436312\n",
      "Train Epoch: 1 [25600/60000 (43%)]\tLoss: 0.266365\n",
      "Train Epoch: 1 [38400/60000 (64%)]\tLoss: 0.187317\n",
      "Train Epoch: 1 [51200/60000 (85%)]\tLoss: 0.146530\n",
      "\n",
      "Test set: Average loss: 0.1152, Accuracy: 9738/10000 (97%)\n",
      "\n",
      "Train Epoch: 2 [0/60000 (0%)]\tLoss: 0.128896\n",
      "Train Epoch: 2 [12800/60000 (21%)]\tLoss: 0.130008\n",
      "Train Epoch: 2 [25600/60000 (43%)]\tLoss: 0.067723\n",
      "Train Epoch: 2 [38400/60000 (64%)]\tLoss: 0.089004\n",
      "Train Epoch: 2 [51200/60000 (85%)]\tLoss: 0.063959\n",
      "\n",
      "Test set: Average loss: 0.0679, Accuracy: 9829/10000 (98%)\n",
      "\n",
      "Train Epoch: 3 [0/60000 (0%)]\tLoss: 0.047894\n",
      "Train Epoch: 3 [12800/60000 (21%)]\tLoss: 0.103279\n",
      "Train Epoch: 3 [25600/60000 (43%)]\tLoss: 0.068465\n",
      "Train Epoch: 3 [38400/60000 (64%)]\tLoss: 0.071282\n",
      "Train Epoch: 3 [51200/60000 (85%)]\tLoss: 0.039589\n",
      "\n",
      "Test set: Average loss: 0.0521, Accuracy: 9855/10000 (99%)\n",
      "\n",
      "Train Epoch: 4 [0/60000 (0%)]\tLoss: 0.048466\n",
      "Train Epoch: 4 [12800/60000 (21%)]\tLoss: 0.035812\n",
      "Train Epoch: 4 [25600/60000 (43%)]\tLoss: 0.043752\n",
      "Train Epoch: 4 [38400/60000 (64%)]\tLoss: 0.064754\n",
      "Train Epoch: 4 [51200/60000 (85%)]\tLoss: 0.071877\n",
      "\n",
      "Test set: Average loss: 0.0456, Accuracy: 9873/10000 (99%)\n",
      "\n",
      "Train Epoch: 5 [0/60000 (0%)]\tLoss: 0.091508\n",
      "Train Epoch: 5 [12800/60000 (21%)]\tLoss: 0.060234\n",
      "Train Epoch: 5 [25600/60000 (43%)]\tLoss: 0.090777\n",
      "Train Epoch: 5 [38400/60000 (64%)]\tLoss: 0.034776\n",
      "Train Epoch: 5 [51200/60000 (85%)]\tLoss: 0.052027\n",
      "\n",
      "Test set: Average loss: 0.0391, Accuracy: 9882/10000 (99%)\n",
      "\n",
      "Train Epoch: 6 [0/60000 (0%)]\tLoss: 0.058125\n",
      "Train Epoch: 6 [12800/60000 (21%)]\tLoss: 0.012497\n",
      "Train Epoch: 6 [25600/60000 (43%)]\tLoss: 0.057711\n",
      "Train Epoch: 6 [38400/60000 (64%)]\tLoss: 0.023974\n",
      "Train Epoch: 6 [51200/60000 (85%)]\tLoss: 0.071595\n",
      "\n",
      "Test set: Average loss: 0.0362, Accuracy: 9888/10000 (99%)\n",
      "\n",
      "Train Epoch: 7 [0/60000 (0%)]\tLoss: 0.051503\n",
      "Train Epoch: 7 [12800/60000 (21%)]\tLoss: 0.032543\n",
      "Train Epoch: 7 [25600/60000 (43%)]\tLoss: 0.022704\n",
      "Train Epoch: 7 [38400/60000 (64%)]\tLoss: 0.027699\n",
      "Train Epoch: 7 [51200/60000 (85%)]\tLoss: 0.054630\n",
      "\n",
      "Test set: Average loss: 0.0339, Accuracy: 9893/10000 (99%)\n",
      "\n",
      "Train Epoch: 8 [0/60000 (0%)]\tLoss: 0.020444\n",
      "Train Epoch: 8 [12800/60000 (21%)]\tLoss: 0.071995\n",
      "Train Epoch: 8 [25600/60000 (43%)]\tLoss: 0.018275\n",
      "Train Epoch: 8 [38400/60000 (64%)]\tLoss: 0.029576\n",
      "Train Epoch: 8 [51200/60000 (85%)]\tLoss: 0.041515\n",
      "\n",
      "Test set: Average loss: 0.0320, Accuracy: 9894/10000 (99%)\n",
      "\n",
      "Train Epoch: 9 [0/60000 (0%)]\tLoss: 0.041193\n",
      "Train Epoch: 9 [12800/60000 (21%)]\tLoss: 0.015834\n",
      "Train Epoch: 9 [25600/60000 (43%)]\tLoss: 0.011080\n",
      "Train Epoch: 9 [38400/60000 (64%)]\tLoss: 0.020461\n",
      "Train Epoch: 9 [51200/60000 (85%)]\tLoss: 0.023786\n",
      "\n",
      "Test set: Average loss: 0.0297, Accuracy: 9903/10000 (99%)\n",
      "\n",
      "Train Epoch: 10 [0/60000 (0%)]\tLoss: 0.064779\n",
      "Train Epoch: 10 [12800/60000 (21%)]\tLoss: 0.041618\n",
      "Train Epoch: 10 [25600/60000 (43%)]\tLoss: 0.016591\n",
      "Train Epoch: 10 [38400/60000 (64%)]\tLoss: 0.023278\n",
      "Train Epoch: 10 [51200/60000 (85%)]\tLoss: 0.018858\n",
      "\n",
      "Test set: Average loss: 0.0299, Accuracy: 9899/10000 (99%)\n",
      "\n"
     ]
    }
   ],
   "source": [
    "# Deifne model and sent to device\n",
    "model = NetWithBatchNorm()\n",
    "\n",
    "# Optimizer: SGD with learning rate of 1e-2 and momentum of 0.5\n",
    "optimizer = optim.SGD(model.parameters(), lr=0.01, momentum=0.5)\n",
    "\n",
    "# Training loop with 10 epochs\n",
    "for epoch in range(1, 10 + 1):\n",
    "    \n",
    "    # Train model\n",
    "    train(model, device, train_loader, optimizer, epoch)\n",
    "    \n",
    "    # Test model\n",
    "    test(model, device, test_loader)"
   ]
  },
  {
   "cell_type": "markdown",
   "metadata": {},
   "source": [
    "## 4. Empirically, which of the models achieves higher accuracy faster? [2 pts]"
   ]
  },
  {
   "cell_type": "markdown",
   "metadata": {},
   "source": [
    "Answer: The network with batch norm achieves higher accuracy faster."
   ]
  },
  {
   "cell_type": "code",
   "execution_count": null,
   "metadata": {},
   "outputs": [],
   "source": []
  }
 ],
 "metadata": {
  "kernelspec": {
   "display_name": "AIMS DL",
   "language": "python",
   "name": "aims-ml"
  },
  "language_info": {
   "codemirror_mode": {
    "name": "ipython",
    "version": 3
   },
   "file_extension": ".py",
   "mimetype": "text/x-python",
   "name": "python",
   "nbconvert_exporter": "python",
   "pygments_lexer": "ipython3",
   "version": "3.6.7"
  }
 },
 "nbformat": 4,
 "nbformat_minor": 2
}
